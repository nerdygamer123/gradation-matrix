{
 "cells": [
  {
   "cell_type": "code",
   "execution_count": 30,
   "metadata": {},
   "outputs": [
    {
     "name": "stdout",
     "output_type": "stream",
     "text": [
      "Enter the length of the matrix: 6\n",
      "Enter the height of the matrix: 8\n",
      "1 2 3 4 5 6  \n",
      "2 3 4 5 6 7  \n",
      "3 4 5 6 7 8  \n",
      "4 5 6 7 8 9  \n",
      "5 6 7 8 9 10  \n",
      "6 7 8 9 10 11  \n",
      "7 8 9 10 11 12  \n",
      "8 9 10 11 12 13  \n"
     ]
    }
   ],
   "source": [
    "# Gradation Matrix Maker by Aarav\n",
    "# In a \"Gradation Matrix\", the top left number is 1.\n",
    "# When you move down OR to the right from 1, the number increases by 1.\n",
    "# Oh, and a cool thing is that the bottom right number = length+height-1.\n",
    "\n",
    "while True:\n",
    "    try:\n",
    "        matL = int(input(\"Enter the length of the matrix: \"))\n",
    "        break\n",
    "    except ValueError:\n",
    "        print (\"Please enter only positive integer values.\")\n",
    "while True:\n",
    "    try:\n",
    "        matH = int(input(\"Enter the height of the matrix: \"))\n",
    "        break\n",
    "    except ValueError:\n",
    "        print (\"Please enter only positive integer values.\")\n",
    "#define the size of the matrix with decimal proofing\n",
    "\n",
    "if (matL<1):\n",
    "    print (\"Please enter only positive integer values.\")\n",
    "if (matH<1):\n",
    "    print (\"Please enter only positive integer values.\")\n",
    "#negative proofing\n",
    "\n",
    "#Below is the making of the matrix:\n",
    "\n",
    "i = 1\n",
    "x = 0\n",
    "j = 1\n",
    "while i <= matH:\n",
    "    #height loop, repeats length loop\n",
    "    while j <= matL:\n",
    "        #length loop, creates rows\n",
    "        print(j+x, end = ' ')\n",
    "        j += 1\n",
    "    print(\" \")\n",
    "    i += 1\n",
    "    j = 1\n",
    "    x += 1"
   ]
  }
 ],
 "metadata": {
  "kernelspec": {
   "display_name": "Python 3",
   "language": "python",
   "name": "python3"
  },
  "language_info": {
   "codemirror_mode": {
    "name": "ipython",
    "version": 3
   },
   "file_extension": ".py",
   "mimetype": "text/x-python",
   "name": "python",
   "nbconvert_exporter": "python",
   "pygments_lexer": "ipython3",
   "version": "3.7.6"
  }
 },
 "nbformat": 4,
 "nbformat_minor": 4
}
